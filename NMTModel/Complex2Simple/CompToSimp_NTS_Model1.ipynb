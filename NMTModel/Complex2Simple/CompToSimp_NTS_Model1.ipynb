{
 "cells": [
  {
   "cell_type": "code",
   "execution_count": 1,
   "metadata": {},
   "outputs": [],
   "source": [
    "import re\n",
    "from pickle import dump\n",
    "from unicodedata import normalize\n",
    "from numpy import array\n",
    "import string\n",
    " \n",
    "# load doc into memory\n",
    "def load_doc(filename):\n",
    "               # open the file as read only\n",
    "               file = open(filename, mode='rt', encoding='utf-8')\n",
    "               # read all text\n",
    "               text = file.read()\n",
    "               # close the file\n",
    "               file.close()\n",
    "               return text\n",
    "def to_lines(doc):\n",
    "    lines = doc.strip().split('\\n')\n",
    "    return lines\n",
    " \n",
    "# split a loaded document into sentences\n",
    "def to_pairs(doc):\n",
    "               lines = doc.strip().split('\\n')\n",
    "               pairs = [line.split('\\t') for line in  lines]\n",
    "               return pairs\n",
    " \n",
    "# clean a list of lines\n",
    "def clean_pairs(lines):\n",
    "   cleaned = list()\n",
    "   # prepare regex for char filtering\n",
    "   re_print = re.compile('[^%s]' % re.escape(string.printable))\n",
    "   # prepare translation table for removing punctuation\n",
    "   table = str.maketrans('', '', string.punctuation)\n",
    "   for pair in lines:\n",
    "      clean_pair = list()\n",
    "      for line in pair:\n",
    "         # normalize unicode characters\n",
    "         line = normalize('NFD', line).encode('ascii', 'ignore')\n",
    "         line = line.decode('UTF-8')\n",
    "         # tokenize on white space\n",
    "         line = line.split()\n",
    "         # convert to lowercase\n",
    "         line = [word.lower() for word in line]\n",
    "         # remove punctuation from each token\n",
    "         line = [word.translate(table) for word in line]\n",
    "         # remove non-printable chars form each token\n",
    "         line = [re_print.sub('', w) for w in line]\n",
    "         # remove tokens with numbers in them\n",
    "         line = [word for word in line if word.isalpha()]\n",
    "         # store as string\n",
    "         clean_pair.append(' '.join(line))\n",
    "      cleaned.append(clean_pair)\n",
    "   return array(cleaned)\n",
    " \n",
    "# save a list of clean sentences to file\n",
    "def save_clean_data(sentences, filename):\n",
    "               dump(sentences, open(filename, 'wb'))\n",
    "               print('Saved: %s' % filename)"
   ]
  },
  {
   "cell_type": "code",
   "execution_count": 2,
   "metadata": {},
   "outputs": [],
   "source": [
    "# load dataset\n",
    "filename = 'dev_en.txt'\n",
    "doc_in = load_doc(filename)\n",
    "filename = 'dev_sen.txt'\n",
    "doc_out = load_doc(filename)\n",
    "lines_in = to_lines(doc_in)\n",
    "lines_out = to_lines(doc_out)"
   ]
  },
  {
   "cell_type": "code",
   "execution_count": 3,
   "metadata": {},
   "outputs": [],
   "source": [
    "import numpy as np\n",
    "lines_in = np.asarray(lines_in)\n",
    "lines_out = np.asarray(lines_out)\n",
    "\n",
    "pairs = np.column_stack((lines_out, lines_in))\n",
    "pairs = pairs.tolist()"
   ]
  },
  {
   "cell_type": "code",
   "execution_count": 4,
   "metadata": {},
   "outputs": [
    {
     "data": {
      "text/plain": [
       "['Marin, Mendocino, Lake, Napa, Solano and Contra Costa are all adjacent countries.',\n",
       " 'Adjacent counties are Marin ( to the south ) , Mendocino ( to the north ) , Lake ( northeast ) , Napa ( to the east ) , and Solano and Contra Costa ( to the southeast ) .']"
      ]
     },
     "execution_count": 4,
     "metadata": {},
     "output_type": "execute_result"
    }
   ],
   "source": [
    "pairs[2]\n",
    "#type(pairs)"
   ]
  },
  {
   "cell_type": "code",
   "execution_count": 5,
   "metadata": {},
   "outputs": [
    {
     "name": "stdout",
     "output_type": "stream",
     "text": [
      "Saved: SimpleEnglish-English.pkl\n"
     ]
    }
   ],
   "source": [
    "# clean sentences\n",
    "clean_pairs = clean_pairs(pairs[:200])\n",
    "# save clean pairs to file\n",
    "save_clean_data(clean_pairs, 'SimpleEnglish-English.pkl')\n",
    "# spot check\n",
    "#for i in range(100):\n",
    "  # print('[%s] => [%s]' % (clean_pairs[i,0], clean_pairs[i,1]))"
   ]
  },
  {
   "cell_type": "code",
   "execution_count": 6,
   "metadata": {},
   "outputs": [
    {
     "name": "stdout",
     "output_type": "stream",
     "text": [
      "Saved: SimpleEnglish-English-both.pkl\n",
      "Saved: SimpleEnglish-English-train.pkl\n",
      "Saved: SimpleEnglish-English-val.pkl\n",
      "Saved: SimpleEnglish-English-test.pkl\n"
     ]
    }
   ],
   "source": [
    "from pickle import load\n",
    "from pickle import dump\n",
    "from numpy.random import rand\n",
    "from numpy.random import shuffle\n",
    " \n",
    "# load a clean dataset\n",
    "def load_clean_sentences(filename):\n",
    "    return load(open(filename, 'rb'))\n",
    " \n",
    "# save a list of clean sentences to file\n",
    "def save_clean_data(sentences, filename):\n",
    "    dump(sentences, open(filename, 'wb'))\n",
    "    print('Saved: %s' % filename)\n",
    " \n",
    "# load dataset\n",
    "raw_dataset = load_clean_sentences('SimpleEnglish-English.pkl')\n",
    " \n",
    "# reduce dataset size\n",
    "n_sentences = 200\n",
    "dataset = raw_dataset[:n_sentences, :]\n",
    "# random shuffle\n",
    "shuffle(dataset)\n",
    "# split into train/test \n",
    "train, val, test = dataset[:150], dataset[150:170], dataset[170:] #Added Validation set - avs\n",
    "# save\n",
    "save_clean_data(dataset, 'SimpleEnglish-English-both.pkl')\n",
    "save_clean_data(train, 'SimpleEnglish-English-train.pkl')\n",
    "save_clean_data(val, 'SimpleEnglish-English-val.pkl')\n",
    "save_clean_data(test, 'SimpleEnglish-English-test.pkl')\n"
   ]
  },
  {
   "cell_type": "code",
   "execution_count": 7,
   "metadata": {},
   "outputs": [],
   "source": [
    "# load a clean dataset\n",
    "def load_clean_sentences(filename):\n",
    "    return load(open(filename, 'rb'))\n",
    " \n",
    "# load datasets\n",
    "dataset = load_clean_sentences('SimpleEnglish-English-both.pkl')\n",
    "train = load_clean_sentences('SimpleEnglish-English-train.pkl')\n",
    "val = load_clean_sentences('SimpleEnglish-English-val.pkl') #added clean for val - avs\n",
    "test = load_clean_sentences('SimpleEnglish-English-test.pkl')"
   ]
  },
  {
   "cell_type": "code",
   "execution_count": 8,
   "metadata": {},
   "outputs": [
    {
     "name": "stderr",
     "output_type": "stream",
     "text": [
      "Using TensorFlow backend.\n",
      "C:\\Users\\Ramvinojen\\Anaconda3\\envs\\PyTfCPU\\lib\\site-packages\\tensorflow\\python\\framework\\dtypes.py:526: FutureWarning: Passing (type, 1) or '1type' as a synonym of type is deprecated; in a future version of numpy, it will be understood as (type, (1,)) / '(1,)type'.\n",
      "  _np_qint8 = np.dtype([(\"qint8\", np.int8, 1)])\n",
      "C:\\Users\\Ramvinojen\\Anaconda3\\envs\\PyTfCPU\\lib\\site-packages\\tensorflow\\python\\framework\\dtypes.py:527: FutureWarning: Passing (type, 1) or '1type' as a synonym of type is deprecated; in a future version of numpy, it will be understood as (type, (1,)) / '(1,)type'.\n",
      "  _np_quint8 = np.dtype([(\"quint8\", np.uint8, 1)])\n",
      "C:\\Users\\Ramvinojen\\Anaconda3\\envs\\PyTfCPU\\lib\\site-packages\\tensorflow\\python\\framework\\dtypes.py:528: FutureWarning: Passing (type, 1) or '1type' as a synonym of type is deprecated; in a future version of numpy, it will be understood as (type, (1,)) / '(1,)type'.\n",
      "  _np_qint16 = np.dtype([(\"qint16\", np.int16, 1)])\n",
      "C:\\Users\\Ramvinojen\\Anaconda3\\envs\\PyTfCPU\\lib\\site-packages\\tensorflow\\python\\framework\\dtypes.py:529: FutureWarning: Passing (type, 1) or '1type' as a synonym of type is deprecated; in a future version of numpy, it will be understood as (type, (1,)) / '(1,)type'.\n",
      "  _np_quint16 = np.dtype([(\"quint16\", np.uint16, 1)])\n",
      "C:\\Users\\Ramvinojen\\Anaconda3\\envs\\PyTfCPU\\lib\\site-packages\\tensorflow\\python\\framework\\dtypes.py:530: FutureWarning: Passing (type, 1) or '1type' as a synonym of type is deprecated; in a future version of numpy, it will be understood as (type, (1,)) / '(1,)type'.\n",
      "  _np_qint32 = np.dtype([(\"qint32\", np.int32, 1)])\n",
      "C:\\Users\\Ramvinojen\\Anaconda3\\envs\\PyTfCPU\\lib\\site-packages\\tensorflow\\python\\framework\\dtypes.py:535: FutureWarning: Passing (type, 1) or '1type' as a synonym of type is deprecated; in a future version of numpy, it will be understood as (type, (1,)) / '(1,)type'.\n",
      "  np_resource = np.dtype([(\"resource\", np.ubyte, 1)])\n"
     ]
    }
   ],
   "source": [
    "import tokenize\n",
    "from keras.preprocessing.text import Tokenizer\n",
    "\n",
    "# fit a tokenizer\n",
    "def create_tokenizer(lines):\n",
    "    tokenizer = Tokenizer()\n",
    "    tokenizer.fit_on_texts(lines)\n",
    "    return tokenizer"
   ]
  },
  {
   "cell_type": "code",
   "execution_count": 9,
   "metadata": {},
   "outputs": [],
   "source": [
    "# max sentence length\n",
    "def max_length(lines):\n",
    "    return max(len(line.split()) for line in lines)\n",
    "# max sentence length\n",
    "def max_length(lines):\n",
    "    return max(len(line.split()) for line in lines)"
   ]
  },
  {
   "cell_type": "code",
   "execution_count": 10,
   "metadata": {},
   "outputs": [
    {
     "name": "stdout",
     "output_type": "stream",
     "text": [
      "SimpleEng Vocabulary Size: 517\n",
      "SimpleEng Max Length: 44\n",
      "English Vocabulary Size: 288\n",
      "English Max Length: 35\n"
     ]
    }
   ],
   "source": [
    "# prepare SimpleEng tokenizer\n",
    "sen_tokenizer = create_tokenizer(dataset[:, 0])\n",
    "sen_vocab_size = len(sen_tokenizer.word_index) + 1\n",
    "sen_length = max_length(dataset[:, 0])\n",
    "print('SimpleEng Vocabulary Size: %d' % sen_vocab_size)\n",
    "print('SimpleEng Max Length: %d' % (sen_length))\n",
    "\n",
    "# prepare english tokenizer\n",
    "eng_tokenizer = create_tokenizer(dataset[:, 1])\n",
    "eng_vocab_size = len(eng_tokenizer.word_index) + 1\n",
    "eng_length = max_length(dataset[:, 1])\n",
    "print('English Vocabulary Size: %d' % eng_vocab_size)\n",
    "print('English Max Length: %d' % (eng_length))"
   ]
  },
  {
   "cell_type": "code",
   "execution_count": 11,
   "metadata": {},
   "outputs": [],
   "source": [
    "from keras.preprocessing.sequence import pad_sequences\n",
    "\n",
    "# encode and pad sequences\n",
    "def encode_sequences(tokenizer, length, lines):\n",
    "    # integer encode sequences\n",
    "    X = tokenizer.texts_to_sequences(lines)\n",
    "    # pad sequences with 0 values\n",
    "    X = pad_sequences(X, maxlen=length, padding='post')\n",
    "    return X\n"
   ]
  },
  {
   "cell_type": "code",
   "execution_count": 12,
   "metadata": {},
   "outputs": [],
   "source": [
    "from keras.utils import to_categorical\n",
    "# one hot encode target sequence\n",
    "def encode_output(sequences, vocab_size):\n",
    "    ylist = list()\n",
    "    for sequence in sequences:\n",
    "        encoded = to_categorical(sequence, num_classes=vocab_size)\n",
    "        ylist.append(encoded)\n",
    "    y = array(ylist)\n",
    "    y = y.reshape(sequences.shape[0], sequences.shape[1], vocab_size)\n",
    "    return y\n",
    "            "
   ]
  },
  {
   "cell_type": "code",
   "execution_count": 13,
   "metadata": {
    "scrolled": true
   },
   "outputs": [],
   "source": [
    "# prepare training data\n",
    "trainX = encode_sequences(eng_tokenizer, eng_length, train[:, 1])\n",
    "trainY = encode_sequences(sen_tokenizer, sen_length, train[:, 0])\n",
    "trainY = encode_output(trainY, sen_vocab_size)\n",
    "# prepare validation data\n",
    "valX = encode_sequences(eng_tokenizer, eng_length, val[:, 1]) #added tokeniser for val set - avs\n",
    "valY = encode_sequences(sen_tokenizer, sen_length, val[:, 0])\n",
    "valY = encode_output(valY, sen_vocab_size)\n",
    "# prepare test data\n",
    "testX = encode_sequences(eng_tokenizer, eng_length, test[:, 1])\n",
    "testY = encode_sequences(sen_tokenizer, sen_length, test[:, 0])\n",
    "testY = encode_output(testY, sen_vocab_size)"
   ]
  },
  {
   "cell_type": "code",
   "execution_count": 14,
   "metadata": {},
   "outputs": [
    {
     "name": "stdout",
     "output_type": "stream",
     "text": [
      "WARNING:tensorflow:From C:\\Users\\Ramvinojen\\Anaconda3\\envs\\PyTfCPU\\lib\\site-packages\\tensorflow\\python\\framework\\op_def_library.py:263: colocate_with (from tensorflow.python.framework.ops) is deprecated and will be removed in a future version.\n",
      "Instructions for updating:\n",
      "Colocations handled automatically by placer.\n",
      "WARNING:tensorflow:From C:\\Users\\Ramvinojen\\Anaconda3\\envs\\PyTfCPU\\lib\\site-packages\\keras\\backend\\tensorflow_backend.py:3733: calling dropout (from tensorflow.python.ops.nn_ops) with keep_prob is deprecated and will be removed in a future version.\n",
      "Instructions for updating:\n",
      "Please use `rate` instead of `keep_prob`. Rate should be set to `rate = 1 - keep_prob`.\n",
      "Model: \"sequential_1\"\n",
      "_________________________________________________________________\n",
      "Layer (type)                 Output Shape              Param #   \n",
      "=================================================================\n",
      "embedding_1 (Embedding)      (None, 35, 256)           73728     \n",
      "_________________________________________________________________\n",
      "lstm_1 (LSTM)                (None, 256)               525312    \n",
      "_________________________________________________________________\n",
      "repeat_vector_1 (RepeatVecto (None, 44, 256)           0         \n",
      "_________________________________________________________________\n",
      "lstm_2 (LSTM)                (None, 44, 256)           525312    \n",
      "_________________________________________________________________\n",
      "time_distributed_1 (TimeDist (None, 44, 517)           132869    \n",
      "_________________________________________________________________\n",
      "dropout_1 (Dropout)          (None, 44, 517)           0         \n",
      "=================================================================\n",
      "Total params: 1,257,221\n",
      "Trainable params: 1,257,221\n",
      "Non-trainable params: 0\n",
      "_________________________________________________________________\n",
      "None\n"
     ]
    }
   ],
   "source": [
    "from keras.models import Sequential\n",
    "from keras.layers import Embedding\n",
    "from keras.layers import LSTM\n",
    "from keras.layers import RepeatVector\n",
    "from keras.layers import TimeDistributed, Dense, Dropout\n",
    "#from keras.utils import plot_model\n",
    "#import pydot \n",
    "\n",
    "\n",
    "# define NMT model\n",
    "def define_model(src_vocab, tar_vocab, src_timesteps, tar_timesteps, n_units):\n",
    "    model = Sequential()\n",
    "    model.add(Embedding(src_vocab, n_units, input_length=src_timesteps, mask_zero=True))\n",
    "    model.add(LSTM(n_units))\n",
    "    model.add(RepeatVector(tar_timesteps))\n",
    "    model.add(LSTM(n_units, return_sequences=True))\n",
    "    model.add(TimeDistributed(Dense(tar_vocab, activation='softmax')))\n",
    "    model.add(Dropout(0.3))\n",
    "    return model\n",
    " \n",
    "# define model\n",
    "model = define_model(eng_vocab_size, sen_vocab_size, eng_length, sen_length, 256)\n",
    "model.compile(optimizer='adamax', loss='categorical_crossentropy')\n",
    "# summarize defined model\n",
    "print(model.summary())\n",
    "#plot_model(model, to_file='model.png', show_shapes=True)"
   ]
  },
  {
   "cell_type": "code",
   "execution_count": 15,
   "metadata": {},
   "outputs": [
    {
     "name": "stdout",
     "output_type": "stream",
     "text": [
      "WARNING:tensorflow:From C:\\Users\\Ramvinojen\\Anaconda3\\envs\\PyTfCPU\\lib\\site-packages\\tensorflow\\python\\ops\\math_ops.py:3066: to_int32 (from tensorflow.python.ops.math_ops) is deprecated and will be removed in a future version.\n",
      "Instructions for updating:\n",
      "Use tf.cast instead.\n",
      "Train on 150 samples, validate on 20 samples\n",
      "Epoch 1/15\n",
      " - 4s - loss: 9.0189 - val_loss: 5.8546\n",
      "\n",
      "Epoch 00001: val_loss improved from inf to 5.85457, saving model to model.h5\n",
      "Epoch 2/15\n",
      " - 1s - loss: 8.3637 - val_loss: 3.0599\n",
      "\n",
      "Epoch 00002: val_loss improved from 5.85457 to 3.05994, saving model to model.h5\n",
      "Epoch 3/15\n",
      " - 2s - loss: 6.7171 - val_loss: 2.8628\n",
      "\n",
      "Epoch 00003: val_loss improved from 3.05994 to 2.86285, saving model to model.h5\n",
      "Epoch 4/15\n",
      " - 1s - loss: 6.6760 - val_loss: 2.7656\n",
      "\n",
      "Epoch 00004: val_loss improved from 2.86285 to 2.76562, saving model to model.h5\n",
      "Epoch 5/15\n",
      " - 1s - loss: 6.6027 - val_loss: 2.6576\n",
      "\n",
      "Epoch 00005: val_loss improved from 2.76562 to 2.65759, saving model to model.h5\n",
      "Epoch 6/15\n",
      " - 2s - loss: 6.5008 - val_loss: 2.7203\n",
      "\n",
      "Epoch 00006: val_loss did not improve from 2.65759\n",
      "Epoch 7/15\n",
      " - 2s - loss: 6.5283 - val_loss: 2.6417\n",
      "\n",
      "Epoch 00007: val_loss improved from 2.65759 to 2.64168, saving model to model.h5\n",
      "Epoch 8/15\n",
      " - 1s - loss: 6.5173 - val_loss: 2.6224\n",
      "\n",
      "Epoch 00008: val_loss improved from 2.64168 to 2.62242, saving model to model.h5\n",
      "Epoch 9/15\n",
      " - 1s - loss: 6.4482 - val_loss: 2.6262\n",
      "\n",
      "Epoch 00009: val_loss did not improve from 2.62242\n",
      "Epoch 10/15\n",
      " - 1s - loss: 6.5614 - val_loss: 2.5927\n",
      "\n",
      "Epoch 00010: val_loss improved from 2.62242 to 2.59268, saving model to model.h5\n",
      "Epoch 11/15\n",
      " - 1s - loss: 6.6252 - val_loss: 2.5536\n",
      "\n",
      "Epoch 00011: val_loss improved from 2.59268 to 2.55362, saving model to model.h5\n",
      "Epoch 12/15\n",
      " - 2s - loss: 6.4943 - val_loss: 2.5266\n",
      "\n",
      "Epoch 00012: val_loss improved from 2.55362 to 2.52660, saving model to model.h5\n",
      "Epoch 13/15\n",
      " - 1s - loss: 6.4769 - val_loss: 2.4894\n",
      "\n",
      "Epoch 00013: val_loss improved from 2.52660 to 2.48935, saving model to model.h5\n",
      "Epoch 14/15\n",
      " - 2s - loss: 6.3293 - val_loss: 2.4558\n",
      "\n",
      "Epoch 00014: val_loss improved from 2.48935 to 2.45579, saving model to model.h5\n",
      "Epoch 15/15\n",
      " - 2s - loss: 6.4466 - val_loss: 2.4181\n",
      "\n",
      "Epoch 00015: val_loss improved from 2.45579 to 2.41810, saving model to model.h5\n"
     ]
    }
   ],
   "source": [
    "from keras.callbacks import ModelCheckpoint\n",
    "# fit model\n",
    "filename = 'model.h5'\n",
    "checkpoint = ModelCheckpoint(filename, monitor='val_loss', verbose=1, save_best_only=True, mode='min')\n",
    "history = model.fit(trainX, trainY, epochs=15, batch_size=64, validation_data=(valX, valY), callbacks=[checkpoint], verbose=2)"
   ]
  },
  {
   "cell_type": "code",
   "execution_count": 19,
   "metadata": {},
   "outputs": [
    {
     "name": "stdout",
     "output_type": "stream",
     "text": [
      "dict_keys(['val_loss', 'loss'])\n"
     ]
    },
    {
     "data": {
      "image/png": "[encoded data removed]",
      "text/plain": [
       "<Figure size 432x288 with 1 Axes>"
      ]
     },
     "metadata": {
      "needs_background": "light"
     },
     "output_type": "display_data"
    }
   ],
   "source": [
    "import matplotlib.pyplot as plt\n",
    "# list all data in history\n",
    "print(history.history.keys())\n",
    "\n",
    "# summarize history for loss\n",
    "plt.plot(history.history['loss'])\n",
    "plt.plot(history.history['val_loss'])\n",
    "plt.title('model loss')\n",
    "plt.ylabel('loss')\n",
    "plt.xlabel('epoch')\n",
    "plt.legend(['train', 'val'], loc='upper left')\n",
    "plt.show()\n"
   ]
  },
  {
   "cell_type": "code",
   "execution_count": 20,
   "metadata": {},
   "outputs": [],
   "source": [
    "from keras.models import load_model\n",
    "# load model\n",
    "model = load_model('model.h5')"
   ]
  },
  {
   "cell_type": "code",
   "execution_count": 21,
   "metadata": {},
   "outputs": [],
   "source": [
    "import numpy as np\n",
    "# map an integer to a word\n",
    "def word_for_id(integer, tokenizer):\n",
    "    for word, index in tokenizer.word_index.items():\n",
    "        if index == integer:\n",
    "            return word\n",
    "    return None\n",
    "# generate target given source sequence\n",
    "def predict_sequence(model, tokenizer, source):\n",
    "    prediction = model.predict(source, verbose=0)[0]\n",
    "    integers = [np.argmax(vector) for vector in prediction]\n",
    "    target = list()\n",
    "    for i in integers:\n",
    "        word = word_for_id(i, tokenizer)\n",
    "        if word is None:\n",
    "            break\n",
    "        target.append(word)\n",
    "    return ' '.join(target)"
   ]
  },
  {
   "cell_type": "code",
   "execution_count": 23,
   "metadata": {},
   "outputs": [],
   "source": [
    "import nltk\n",
    "from nltk.translate.bleu_score import corpus_bleu\n",
    "# evaluate the skill of the model\n",
    "def evaluate_model(model, tokenizer, sources, raw_dataset):\n",
    "    actual, predicted = list(), list()\n",
    "    for i, source in enumerate(sources):\n",
    "        # translate encoded source text\n",
    "        source = source.reshape((1, source.shape[0]))\n",
    "        translation = predict_sequence(model, sen_tokenizer, source)\n",
    "        raw_target, raw_src = raw_dataset[i]\n",
    "        if i < 10:\n",
    "            print('src=[%s], target=[%s], predicted=[%s]' % (raw_src, raw_target, translation))\n",
    "        actual.append([raw_target.split()])\n",
    "        predicted.append(translation.split())\n",
    "    # calculate BLEU score\n",
    "    print('BLEU-1: %f' % corpus_bleu(actual, predicted, weights=(1.0, 0, 0, 0)))\n",
    "    print('BLEU-2: %f' % corpus_bleu(actual, predicted, weights=(0.5, 0.5, 0, 0)))\n",
    "    print('BLEU-3: %f' % corpus_bleu(actual, predicted, weights=(0.3, 0.3, 0.3, 0)))\n",
    "    print('BLEU-4: %f' % corpus_bleu(actual, predicted, weights=(0.25, 0.25, 0.25, 0.25)))"
   ]
  },
  {
   "cell_type": "code",
   "execution_count": 24,
   "metadata": {},
   "outputs": [
    {
     "name": "stdout",
     "output_type": "stream",
     "text": [
      "src=[singles competition after years in the tag team division hardy took on the undertaker in a ladder match for the undisputed championship], target=[hardy after years in the tag team division took on the undertaker in a ladder match for the championship], predicted=[the]\n",
      "src=[anthony mcgill is the principal clarinetist for the metropolitan opera], target=[anthony mcgill is the main clarinetist for the metropolitan opera], predicted=[]\n",
      "src=[in march the world wrestling federation purchased world championship wrestling], target=[in march the world wrestling federation bought world championship wrestling], predicted=[]\n",
      "src=[the west coast blues is a type of blues music characterized by jazz and jump blues influences strong pianodominated sounds and jazzy guitar solos which originated from texas blues players relocated to california in the], target=[the west coast blues is a sort of blues music represented by jazz and jump blues effects strong pianodominated sounds and jazzy music instrument with solos which originated from texas blues players put in a different place to california in the], predicted=[the]\n",
      "src=[it is particularly famous for the cultivation of kiwifruit], target=[it is mostly famous for the growing of kiwifruit], predicted=[]\n",
      "src=[in roy was selected as the greatest goaltender in nhl history by a panel of writers coupled with a simultaneous fan poll], target=[in roy was chosen as the best goaltender in nhl history by a panel of writers and a fan poll], predicted=[the]\n",
      "src=[anthony mcgill is the principal clarinetist for the metropolitan opera], target=[anthony mcgill is the principal clarinetist for the metropolitan opera], predicted=[]\n",
      "src=[they would later return to the revived series in the christmas special the next doctor introducing two new variants of the race the cybershades and the cyberking], target=[they would return to the series in the christmas special the next doctor introducing two new variants of the race], predicted=[the]\n",
      "src=[history landsberg prison which is in the town s western outskirts was completed in], target=[history landsberg prison which is on the western side of town was completed in], predicted=[]\n",
      "src=[agriculture locals grow seasonal crops such as maize makai and wheat kanak], target=[locals grow crops such as maize and wheat], predicted=[]\n",
      "BLEU-1: 0.000000\n",
      "BLEU-2: 0.000000\n",
      "BLEU-3: 0.000000\n",
      "BLEU-4: 0.000000\n"
     ]
    },
    {
     "name": "stderr",
     "output_type": "stream",
     "text": [
      "C:\\Users\\Ramvinojen\\Anaconda3\\envs\\PyTfCPU\\lib\\site-packages\\nltk\\translate\\bleu_score.py:523: UserWarning: \n",
      "The hypothesis contains 0 counts of 2-gram overlaps.\n",
      "Therefore the BLEU score evaluates to 0, independently of\n",
      "how many N-gram overlaps of lower order it contains.\n",
      "Consider using lower n-gram order or use SmoothingFunction()\n",
      "  warnings.warn(_msg)\n",
      "C:\\Users\\Ramvinojen\\Anaconda3\\envs\\PyTfCPU\\lib\\site-packages\\nltk\\translate\\bleu_score.py:523: UserWarning: \n",
      "The hypothesis contains 0 counts of 3-gram overlaps.\n",
      "Therefore the BLEU score evaluates to 0, independently of\n",
      "how many N-gram overlaps of lower order it contains.\n",
      "Consider using lower n-gram order or use SmoothingFunction()\n",
      "  warnings.warn(_msg)\n",
      "C:\\Users\\Ramvinojen\\Anaconda3\\envs\\PyTfCPU\\lib\\site-packages\\nltk\\translate\\bleu_score.py:523: UserWarning: \n",
      "The hypothesis contains 0 counts of 4-gram overlaps.\n",
      "Therefore the BLEU score evaluates to 0, independently of\n",
      "how many N-gram overlaps of lower order it contains.\n",
      "Consider using lower n-gram order or use SmoothingFunction()\n",
      "  warnings.warn(_msg)\n"
     ]
    }
   ],
   "source": [
    "evaluate_model(model,sen_tokenizer,trainX,train)"
   ]
  }
 ],
 "metadata": {
  "kernelspec": {
   "display_name": "Python 3",
   "language": "python",
   "name": "python3"
  },
  "language_info": {
   "codemirror_mode": {
    "name": "ipython",
    "version": 3
   },
   "file_extension": ".py",
   "mimetype": "text/x-python",
   "name": "python",
   "nbconvert_exporter": "python",
   "pygments_lexer": "ipython3",
   "version": "3.6.7"
  }
 },
 "nbformat": 4,
 "nbformat_minor": 2
}
